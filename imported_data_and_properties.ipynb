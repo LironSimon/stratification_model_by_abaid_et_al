{
 "cells": [
  {
   "cell_type": "code",
   "execution_count": 8,
   "metadata": {},
   "outputs": [],
   "source": [
    "# Imported_data_and_eq uploads all relevet data entries from prior matlab files, to define the variables needed for later calculations\n",
    "\n",
    "from scipy.io import loadmat\n",
    "import numpy as np\n",
    "import glob"
   ]
  },
  {
   "cell_type": "code",
   "execution_count": 12,
   "metadata": {},
   "outputs": [
    {
     "name": "stdout",
     "output_type": "stream",
     "text": [
      "[]\n"
     ]
    }
   ],
   "source": [
    "#Arranging files to excerpt data from\n",
    "files_directory_list = glob.glob('../Mat_files/*.mat')\n",
    "print(file_list)"
   ]
  },
  {
   "cell_type": "code",
   "execution_count": null,
   "metadata": {},
   "outputs": [],
   "source": [
    "#Asafi! do you understand why it doesn't load?"
   ]
  },
  {
   "cell_type": "code",
   "execution_count": null,
   "metadata": {},
   "outputs": [],
   "source": [
    "# Creating a lst of dictionaries, named after each file, storing rlvnt data\n",
    "\n",
    "for file in file_directory_list:\n",
    "    fname = file.rsplit('/')[-1].split('_')[0]\n",
    "    data = loadmat(file)\n"
   ]
  },
  {
   "cell_type": "code",
   "execution_count": null,
   "metadata": {},
   "outputs": [],
   "source": [
    "#Asafi! do you have an idea of how to store all the info?\n",
    "#I'd like to upload all the folowing info from the files "
   ]
  },
  {
   "cell_type": "code",
   "execution_count": null,
   "metadata": {},
   "outputs": [],
   "source": [
    "#Defining variables\n",
    "\n",
    "###sphere properties:\n",
    "d= None                               # sphere's diameter [m] \n",
    "def Vol_p(d): return np.pi*d**3/6     # sphere's volume [m3]\n",
    "rhop= None                            #\tsphere's density [kg/m3]\n",
    "def m(d,rhop): return rhop*Vol_p(d)   # sphere's mass [kg]\n",
    "\n",
    "###general data:\n",
    "X=np.aaray()                          # the bead’s position as a func of t, initialized at the top of the tank. [m]\n",
    "t=np.aaray()                          # starts from 0 at the top of the tank [s]\n",
    "g=9.81                                # gravitational acceleration [m/s2]\n",
    "Xs= None                              # location of the start of the density interface [m]\n",
    "Xe= None                              # location of the end of the density interface [m]\n",
    "h= Xe - Xs                            # interface thickness [m]\n",
    "rho1= None                            # density of the top layer [kg/m3]\n",
    "rho2= None                            # density of the bottom layer [kg/m3]\n",
    "lam=0.35                              # hyperbolic function constructive param used to simulate density profile [-]\n",
    "def rho(X): return rho2 - 0.5*(rho2-rho1)*(1-np.tanh(X-(Xe + Xs)/(2*lam*h))   # rho: density profile of the whole tank [kg/m3]\n",
    "def F_drg(Re)=0.00064*Re**1.44        #\tdrag force as a func. of Re, derived from direct measuring of Vterminal in constant density enviroment\n",
    "nu1= None                             # kinematic viscosity of the top layer\n",
    "nu2= None                             # kinematic viscosity of the bottom layer\n",
    "Vp_measured=np.aaray()                # particle velocity as calculated in the mat files\n",
    "      \n",
    "###drift volume properties:\n",
    "# drift volume is modeled as a point mass, draged by the sphere in with a constant distance\n",
    "omega=0.15                            # distance from the sphere [cm]\n",
    "beta0= 0.06                           #\tdiffusivity due to mass concentrations. Of same order as diffusivity of salt in water [1/s]\n",
    "beta_trb= 0.94                        # turbulent diffusivity [1/cm]\n",
    "def beta(Vp): return beta0+beta_trb*abs(Vp)     # total diffusivity coefficient\t\n",
    "z=0.04792                             # entrained fluid’s mass [g]. Can be shifted to fit data\n"
   ]
  }
 ],
 "metadata": {
  "kernelspec": {
   "display_name": "Python 3",
   "language": "python",
   "name": "python3"
  },
  "language_info": {
   "codemirror_mode": {
    "name": "ipython",
    "version": 3
   },
   "file_extension": ".py",
   "mimetype": "text/x-python",
   "name": "python",
   "nbconvert_exporter": "python",
   "pygments_lexer": "ipython3",
   "version": "3.8.3"
  }
 },
 "nbformat": 4,
 "nbformat_minor": 4
}
